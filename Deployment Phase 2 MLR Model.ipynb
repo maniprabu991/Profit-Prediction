{
 "cells": [
  {
   "cell_type": "code",
   "execution_count": 1,
   "id": "765fa443",
   "metadata": {},
   "outputs": [],
   "source": [
    "import pickle\n"
   ]
  },
  {
   "cell_type": "code",
   "execution_count": 2,
   "id": "83f816bb",
   "metadata": {},
   "outputs": [],
   "source": [
    "model = pickle.load(open(\"Finalized_Multiple_Linear_Model.sav\",'rb'))\n"
   ]
  },
  {
   "cell_type": "code",
   "execution_count": 6,
   "id": "aa73ba22",
   "metadata": {},
   "outputs": [
    {
     "name": "stdout",
     "output_type": "stream",
     "text": [
      "R & D: 590389\n",
      "COSTING: 725146\n",
      "MARKETING: 1083839\n",
      "STATE_Coimbatore 0 or 1: 0\n",
      "STATE_Delhi 0 or 1: 0\n",
      "STATE_Karur 0 or 1: 0\n",
      "STATE_Madurai 0 or 1: 0\n",
      "STATE_Mumbai 0 or 1: 0\n",
      "STATE_Trichy 0 or 1: 0\n"
     ]
    }
   ],
   "source": [
    "rd_input = float(input('R & D: '))\n",
    "cost_input = float(input('COSTING: '))\n",
    "mar_input = float(input('MARKETING: '))\n",
    "coim_input = float(input('STATE_Coimbatore 0 or 1: '))\n",
    "del_input = float(input('STATE_Delhi 0 or 1: '))\n",
    "kar_input = float(input('STATE_Karur 0 or 1: '))\n",
    "mad_input = float(input('STATE_Madurai 0 or 1: '))\n",
    "mum_input = float(input('STATE_Mumbai 0 or 1: '))\n",
    "tri_input = float(input('STATE_Trichy 0 or 1: '))"
   ]
  },
  {
   "cell_type": "code",
   "execution_count": 7,
   "id": "2e19af61",
   "metadata": {},
   "outputs": [
    {
     "name": "stderr",
     "output_type": "stream",
     "text": [
      "C:\\Users\\ELCOT\\anaconda3\\Lib\\site-packages\\sklearn\\base.py:464: UserWarning: X does not have valid feature names, but LinearRegression was fitted with feature names\n",
      "  warnings.warn(\n"
     ]
    }
   ],
   "source": [
    "result = model.predict([[rd_input,cost_input,mar_input,coim_input,del_input,kar_input,mad_input,mum_input,tri_input]])"
   ]
  },
  {
   "cell_type": "code",
   "execution_count": 8,
   "id": "b4c94568",
   "metadata": {},
   "outputs": [
    {
     "data": {
      "text/plain": [
       "array([[2901443.]])"
      ]
     },
     "execution_count": 8,
     "metadata": {},
     "output_type": "execute_result"
    }
   ],
   "source": [
    "result"
   ]
  },
  {
   "cell_type": "code",
   "execution_count": null,
   "id": "c955b11e",
   "metadata": {},
   "outputs": [],
   "source": []
  }
 ],
 "metadata": {
  "kernelspec": {
   "display_name": "Python 3 (ipykernel)",
   "language": "python",
   "name": "python3"
  },
  "language_info": {
   "codemirror_mode": {
    "name": "ipython",
    "version": 3
   },
   "file_extension": ".py",
   "mimetype": "text/x-python",
   "name": "python",
   "nbconvert_exporter": "python",
   "pygments_lexer": "ipython3",
   "version": "3.11.5"
  }
 },
 "nbformat": 4,
 "nbformat_minor": 5
}
